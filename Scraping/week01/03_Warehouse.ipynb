{
 "cells": [
  {
   "cell_type": "code",
   "execution_count": null,
   "metadata": {},
   "outputs": [],
   "source": [
    "from dsm.library.clickhouse import ClickMouse\n",
    "from dsm.library.datanode import DataNode"
   ]
  },
  {
   "cell_type": "code",
   "execution_count": null,
   "metadata": {
    "collapsed": true
   },
   "outputs": [],
   "source": [
    "connection = {\n",
    "    'host' : '',\n",
    "    'port' : '',\n",
    "    'database' : '',\n",
    "    'user' : '',\n",
    "    'password' : '',\n",
    "    'settings' : {\n",
    "        'use_numpy' : True\n",
    "    },\n",
    "    'secure' : False\n",
    "}\n",
    "warehouse = ClickMouse(connection=connection)"
   ]
  },
  {
   "cell_type": "markdown",
   "metadata": {},
   "source": [
    "# Read Data"
   ]
  },
  {
   "cell_type": "code",
   "execution_count": null,
   "metadata": {},
   "outputs": [],
   "source": [
    "thaiauto_parquet_dir_id #id = "
   ]
  },
  {
   "cell_type": "code",
   "execution_count": null,
   "metadata": {},
   "outputs": [],
   "source": [
    "datanode = DataNode()"
   ]
  },
  {
   "cell_type": "code",
   "execution_count": null,
   "metadata": {},
   "outputs": [],
   "source": [
    "thaiauto_fID = datanode.get_file_id(directory_id=thaiauto_parquet_dir_id , name=\"spo.parquet\")\n",
    "df_thaiauto = datanode.read_df(file_id=thaiauto_fID)\n",
    "df_thaiauto.head()"
   ]
  },
  {
   "cell_type": "markdown",
   "metadata": {},
   "source": [
    "# Write to Warehouse"
   ]
  },
  {
   "cell_type": "code",
   "execution_count": null,
   "metadata": {},
   "outputs": [],
   "source": [
    "table_name = \"Ev_in_Thailand\"\n",
    "table_name = warehouse.get_or_createTable(df=df_thaiauto, tableName=table_name, key='brand')\n",
    "table_name"
   ]
  },
  {
   "cell_type": "code",
   "execution_count": null,
   "metadata": {},
   "outputs": [],
   "source": [
    "warehouse.write(df=df_thaiauto, tableName=table_name,key='brand')"
   ]
  },
  {
   "cell_type": "markdown",
   "metadata": {},
   "source": [
    "# Test Query"
   ]
  },
  {
   "cell_type": "code",
   "execution_count": null,
   "metadata": {},
   "outputs": [],
   "source": [
    "query = \"\"\"\n",
    "        SELECT * FROM Ev_in_Thailand\n",
    "\"\"\"\n",
    "warehouse.read(sqlQuery=query)"
   ]
  }
 ],
 "metadata": {
  "kernelspec": {
   "display_name": "Python 3 (ipykernel)",
   "language": "python",
   "name": "python3"
  },
  "language_info": {
   "codemirror_mode": {
    "name": "ipython",
    "version": 3
   },
   "file_extension": ".py",
   "mimetype": "text/x-python",
   "name": "python",
   "nbconvert_exporter": "python",
   "pygments_lexer": "ipython3",
   "version": "3.9.6"
  },
  "vscode": {
   "interpreter": {
    "hash": "752d36d5e326855b611c75c8fee572b78de6e68ce336633d1cdd27d611b24b78"
   }
  }
 },
 "nbformat": 4,
 "nbformat_minor": 2
}
