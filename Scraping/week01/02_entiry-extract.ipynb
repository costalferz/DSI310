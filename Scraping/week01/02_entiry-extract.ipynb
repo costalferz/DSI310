{
 "cells": [
  {
   "cell_type": "code",
   "execution_count": 1,
   "metadata": {},
   "outputs": [
    {
     "name": "stderr",
     "output_type": "stream",
     "text": [
      "/usr/local/Caskroom/miniconda/base/envs/310/lib/python3.9/site-packages/tqdm/auto.py:22: TqdmWarning: IProgress not found. Please update jupyter and ipywidgets. See https://ipywidgets.readthedocs.io/en/stable/user_install.html\n",
      "  from .autonotebook import tqdm as notebook_tqdm\n"
     ]
    }
   ],
   "source": [
    "from dsmlibrary.datanode import DataNode\n",
    "import json\n",
    "from tqdm.auto import tqdm\n",
    "import pandas as pd"
   ]
  },
  {
   "cell_type": "code",
   "execution_count": 2,
   "metadata": {},
   "outputs": [],
   "source": [
    "dir_raw_id = 41\n",
    "dir_process_id = 42"
   ]
  },
  {
   "cell_type": "code",
   "execution_count": 3,
   "metadata": {},
   "outputs": [
    {
     "ename": "NameError",
     "evalue": "name 'token' is not defined",
     "output_type": "error",
     "traceback": [
      "\u001b[0;31m---------------------------------------------------------------------------\u001b[0m",
      "\u001b[0;31mNameError\u001b[0m                                 Traceback (most recent call last)",
      "Input \u001b[0;32mIn [3]\u001b[0m, in \u001b[0;36m<cell line: 1>\u001b[0;34m()\u001b[0m\n\u001b[0;32m----> 1\u001b[0m datanode \u001b[38;5;241m=\u001b[39m DataNode(token\u001b[38;5;241m=\u001b[39m\u001b[43mtoken\u001b[49m)\n",
      "\u001b[0;31mNameError\u001b[0m: name 'token' is not defined"
     ]
    }
   ],
   "source": [
    "datanode = DataNode()"
   ]
  },
  {
   "cell_type": "code",
   "execution_count": null,
   "metadata": {},
   "outputs": [],
   "source": [
    "meta, fp = datanode.get_file(datanode.get_file_id(directory_id=dir_raw_id, name='thaiauto.csv'))\n",
    "meta"
   ]
  },
  {
   "cell_type": "code",
   "execution_count": null,
   "metadata": {},
   "outputs": [],
   "source": [
    "data = pd.read_csv(fp,encoding=\"utf-8-sig\",index_col=0)\n",
    "data.head(10)"
   ]
  },
  {
   "cell_type": "code",
   "execution_count": null,
   "metadata": {},
   "outputs": [],
   "source": [
    "data.isnull().sum()"
   ]
  },
  {
   "cell_type": "code",
   "execution_count": null,
   "metadata": {},
   "outputs": [],
   "source": [
    "for i in tqdm(range(len(data))):\n",
    "    df = data.iloc[i]\n",
    "    if df['month'] == 'มกราคม':\n",
    "        data.loc[i,'month'] = \"01\"\n",
    "    elif df['month'] == 'กุมภาพันธ์':\n",
    "        data.loc[i,'month'] = \"02\"\n",
    "    elif df['month'] == 'มีนาคม':\n",
    "        data.loc[i,'month'] = \"03\"\n",
    "    elif df['month'] == 'เมษายน':\n",
    "        data.loc[i,'month'] = \"04\"\n",
    "    elif df['month'] == 'พฤษภาคม':\n",
    "        data.loc[i,'month'] = \"05\"\n",
    "    elif df['month'] == 'มิถุนายน':\n",
    "        data.loc[i,'month'] = \"06\"\n",
    "    elif df['month'] == 'กรกฎาคม':\n",
    "        data.loc[i,'month'] = \"07\"\n",
    "    elif df['month'] == 'สิงหาคม':\n",
    "        data.loc[i,'month'] = \"08\"\n",
    "    elif df['month'] == 'กนยายน': # Missing character month\n",
    "        data.loc[i,'month'] = \"09\"\n",
    "    elif df['month'] == 'ตุลาคม':\n",
    "        data.loc[i,'month'] = \"10\"\n",
    "    elif df['month'] == 'พฤศจิกายน':\n",
    "        data.loc[i,'month'] = \"11\"\n",
    "    elif df['month'] == 'ธันวาคม':\n",
    "        data.loc[i,'month'] = \"12\""
   ]
  },
  {
   "cell_type": "code",
   "execution_count": null,
   "metadata": {},
   "outputs": [],
   "source": [
    "df2 = data[[\"year\",\"month\",\"brand\",\"BEV\"]]\n",
    "df2.head(5)"
   ]
  },
  {
   "cell_type": "code",
   "execution_count": null,
   "metadata": {},
   "outputs": [],
   "source": [
    "df2.info()"
   ]
  },
  {
   "cell_type": "markdown",
   "metadata": {},
   "source": [
    "# write DataNode to DataPlatform\n"
   ]
  },
  {
   "cell_type": "code",
   "execution_count": null,
   "metadata": {},
   "outputs": [],
   "source": [
    "datanode.write(df=df2, directory=dir_process_id, name=\"Ev_Thailand\",\n",
    "               profiling=True, lineage=[datanode.get_file_id(directory_id=dir_raw_id, name='thaiauto.csv')])\n"
   ]
  },
  {
   "cell_type": "code",
   "execution_count": null,
   "metadata": {},
   "outputs": [],
   "source": []
  }
 ],
 "metadata": {
  "kernelspec": {
   "display_name": "Python 3 (ipykernel)",
   "language": "python",
   "name": "python3"
  },
  "language_info": {
   "codemirror_mode": {
    "name": "ipython",
    "version": 3
   },
   "file_extension": ".py",
   "mimetype": "text/x-python",
   "name": "python",
   "nbconvert_exporter": "python",
   "pygments_lexer": "ipython3",
   "version": "3.9.6"
  },
  "vscode": {
   "interpreter": {
    "hash": "9ca530cb7ec9b7f2f6d9ec590d8d059fd0f47f525a2466e9dc1fbf08103c23c0"
   }
  }
 },
 "nbformat": 4,
 "nbformat_minor": 2
}
